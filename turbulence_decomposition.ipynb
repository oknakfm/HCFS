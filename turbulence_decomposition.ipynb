{
  "cells": [
    {
      "cell_type": "markdown",
      "source": [
        "Loading the dataset"
      ],
      "metadata": {
        "id": "G1MmiSb9EY5a"
      }
    },
    {
      "cell_type": "code",
      "source": [
        "import os\n",
        "import numpy as np\n",
        "from google.colab import drive\n",
        "\n",
        "## Google Drive\n",
        "drive.mount('/content/drive')\n",
        "\n",
        "root_folder = '/content/drive/My Drive/Flow_Structure_Clustering'\n",
        "preprocessed_data_folder = os.path.join(root_folder, 'Preprocessed_Data')\n",
        "file_path = os.path.join(preprocessed_data_folder, 'Dat_phi.npy')\n",
        "Dat_phi = np.load(file_path)"
      ],
      "metadata": {
        "id": "DjU3K91VmFQn",
        "colab": {
          "base_uri": "https://localhost:8080/"
        },
        "outputId": "6fdaadbc-a74c-4cf2-c944-dc55747cb55e"
      },
      "execution_count": 1,
      "outputs": [
        {
          "output_type": "stream",
          "name": "stdout",
          "text": [
            "Drive already mounted at /content/drive; to attempt to forcibly remount, call drive.mount(\"/content/drive\", force_remount=True).\n"
          ]
        }
      ]
    },
    {
      "cell_type": "markdown",
      "source": [
        "Preprocessing"
      ],
      "metadata": {
        "id": "QmNqS6J5EXb_"
      }
    },
    {
      "cell_type": "code",
      "source": [
        "t1 = 0\n",
        "t2 = 1500\n",
        "t_len = 1500\n",
        "time = np.arange(0, 1500)\n",
        "t_cal = time[t1:t2]\n",
        "t_skip = 1\n",
        "r_skip = 3\n",
        "\n",
        "dat_phi = Dat_phi[1:, :, :][::r_skip, :, ::t_skip]\n",
        "r_len = dat_phi.shape[0]\n",
        "th_len = dat_phi.shape[1]\n",
        "r_arr = np.linspace(1/r_len, 1, r_len)\n",
        "th_arr = np.linspace(0, (2 * np.pi)-((2*np.pi)/th_len), th_len)\n",
        "theta_arr = th_arr/(2 * np.pi)"
      ],
      "metadata": {
        "id": "8XH7BTP8kw8d"
      },
      "execution_count": 2,
      "outputs": []
    },
    {
      "cell_type": "code",
      "execution_count": 3,
      "metadata": {
        "id": "CK_Pfqy5g6pK"
      },
      "outputs": [],
      "source": [
        "from scipy.interpolate import griddata\n",
        "\n",
        "## Cartesian -> Polar coordinates\n",
        "X = np.zeros((r_len, th_len))\n",
        "Y = np.zeros((r_len, th_len))\n",
        "for b in range(r_len):\n",
        "  for c in range(th_len):\n",
        "    X[b, c] = r_arr[b] * np.cos(th_arr[c])\n",
        "    Y[b, c] = r_arr[b] * np.sin(th_arr[c])\n",
        "\n",
        "x_len = y_len = 64\n",
        "x_arr = np.linspace(-1, 1, x_len) #x_min:x_max\n",
        "y_arr = np.linspace(-1, 1, y_len) #y_min:y_max\n",
        "Xq, Yq = np.meshgrid(x_arr, y_arr)\n",
        "\n",
        "phi_xy = np.zeros((x_len, y_len, t_len))\n",
        "for bt in range(t_len):\n",
        "  data = griddata((X.flatten(), Y.flatten()), np.squeeze(dat_phi[:, :, bt]).flatten(), (Xq, Yq), method = \"linear\")\n",
        "  data[np.isnan(data)] = 0\n",
        "\n",
        "  for bx in range(x_len):\n",
        "    for by in range(y_len):\n",
        "      if np.sqrt((Xq[1, bx]**2) + (Yq[by, 1]**2)) <= 1 :\n",
        "        phi_xy[bx, by, bt] = data[bx, by]\n",
        "      else:\n",
        "        phi_xy[bx, by, bt] = 0"
      ]
    },
    {
      "cell_type": "code",
      "execution_count": 4,
      "metadata": {
        "id": "F6SsPEsKhTzj",
        "colab": {
          "base_uri": "https://localhost:8080/"
        },
        "outputId": "36b6ffee-9167-47fd-c715-18915a53aa8b"
      },
      "outputs": [
        {
          "output_type": "stream",
          "name": "stdout",
          "text": [
            "(4096, 1500) (1500,) (1500, 1500)\n"
          ]
        }
      ],
      "source": [
        "## multi-field SVD\n",
        "phi_1d = phi_xy.reshape(y_len*x_len, t_len)\n",
        "u_1d, s, vt = np.linalg.svd(phi_1d, full_matrices = False)\n",
        "print(u_1d.shape, s.shape, vt.shape)"
      ]
    },
    {
      "cell_type": "code",
      "execution_count": 5,
      "metadata": {
        "id": "htza6XLNgNyA"
      },
      "outputs": [],
      "source": [
        "m_len = 30\n",
        "m_arr = np.arange(m_len)\n",
        "\n",
        "dt = time[2] - time[1]\n",
        "Vt_n = np.zeros((m_len, t_len))\n",
        "Vt_vr = np.zeros((m_len, t_len))\n",
        "S = np.zeros((m_len))\n",
        "for m in range(m_len):\n",
        "  A = np.sqrt(np.sum(vt[m, :] * vt[m, :]) * dt)\n",
        "  Vt_n[m, :] = vt[m, :t_len] / A\n",
        "  S[m] = s[m] * A\n",
        "\n",
        "U = np.zeros((x_len, y_len, m_len))\n",
        "for m in range(m_len):\n",
        "  U[:, :, m] = (u_1d[:, m] * S[m]).reshape(x_len, y_len)\n",
        "\n",
        "## SVD modes\n",
        "N_UVt = np.zeros((x_len, y_len, t_len, m_len))\n",
        "for m in range(m_len):\n",
        "  for t in range(t_len):\n",
        "    n = u_1d[:, m] * S[m] * Vt_n[m, t]\n",
        "    N_UVt[:, :, t, m] = n.reshape(x_len, y_len)"
      ]
    },
    {
      "cell_type": "markdown",
      "metadata": {
        "id": "M02iF0oegHpL"
      },
      "source": [
        "Classification of modes into zonal flow and turbulence"
      ]
    },
    {
      "cell_type": "code",
      "source": [
        "## Granularity\n",
        "L = 64\n",
        "\n",
        "from skimage.transform import rotate\n",
        "\n",
        "error_vector = np.zeros(m_len)\n",
        "for i in range(m_len):\n",
        "    Psi = u_1d[:, i].reshape(x_len, y_len)\n",
        "    error = 0\n",
        "    for l in range(L):\n",
        "        rotated_Psi = rotate(Psi, 360 * (l / L), resize=False, mode='edge')\n",
        "        error += np.sqrt(np.mean((Psi - rotated_Psi) ** 2))\n",
        "    error_vector[i] = error\n",
        "\n",
        "## Zonal flows\n",
        "GroupA = np.where(error_vector < 0.5)[0]\n",
        "GroupA = GroupA[GroupA>0]\n",
        "\n",
        "## Turbulence\n",
        "GroupB = np.array(list(set(range(m_len)) - set(GroupA)))\n",
        "GroupB = GroupB[GroupB>0]"
      ],
      "metadata": {
        "id": "Iznr3SmwWxBj"
      },
      "execution_count": 6,
      "outputs": []
    },
    {
      "cell_type": "markdown",
      "source": [
        "Decomposition of turbulence into finer modes"
      ],
      "metadata": {
        "id": "CoD21Dh_F-UG"
      }
    },
    {
      "cell_type": "code",
      "execution_count": 12,
      "metadata": {
        "id": "42_zIOIzepCh",
        "colab": {
          "base_uri": "https://localhost:8080/",
          "height": 608
        },
        "outputId": "86d0f0b1-3671-4afa-eb0c-dfe53c76eb35"
      },
      "outputs": [
        {
          "output_type": "display_data",
          "data": {
            "text/plain": [
              "<Figure size 1000x700 with 1 Axes>"
            ],
            "image/png": "[encoded data removed]"
          },
          "metadata": {}
        }
      ],
      "source": [
        "from scipy.spatial.distance import squareform\n",
        "from scipy.cluster.hierarchy import linkage\n",
        "\n",
        "## Compute dissimilarity using singular values\n",
        "dsm = np.abs(s[range(m_len), np.newaxis] - s[range(m_len)])\n",
        "\n",
        "## Standardize dissimilarities for GroupA and GroupB\n",
        "tmp = dsm[np.ix_(GroupA, GroupA)]; DA = tmp/np.std(tmp)\n",
        "tmp = dsm[np.ix_(GroupB, GroupB)]; DB = tmp/np.std(tmp)\n",
        "from scipy.cluster.hierarchy import dendrogram, linkage\n",
        "from scipy.cluster.hierarchy import set_link_color_palette\n",
        "\n",
        "## Perform hierarchical clustering\n",
        "method=\"ward\"\n",
        "\n",
        "condensed_DA = squareform(DA)\n",
        "condensed_DB = squareform(DB)\n",
        "linkage_A = linkage(condensed_DA, method)\n",
        "linkage_B = linkage(condensed_DB, method)\n",
        "\n",
        "## Plot dendrogram for GroupB (Turbulence)\n",
        "import matplotlib.pyplot as plt\n",
        "plt.figure(figsize=(10, 7))\n",
        "dendrogram(linkage_B, labels=GroupB)\n",
        "plt.show()"
      ]
    },
    {
      "cell_type": "markdown",
      "metadata": {
        "id": "V5kE9FlW7b7S"
      },
      "source": [
        "Visualization of the finer modes"
      ]
    },
    {
      "cell_type": "code",
      "source": [
        "## Groups detected by the hierarchical clustering\n",
        "\n",
        "Group0 = [0] #background\n",
        "GroupAll = range(m_len)\n",
        "GroupA = GroupA\n",
        "GroupB0 = [1,2]\n",
        "GroupB1 = [4,5,7,8,9,10,11,12] ## detected by hierarchical clustering\n",
        "GroupB2 = np.array(list(set(GroupB)-set(GroupB0)-set(GroupB1)))\n",
        "GroupB12 =  np.array(list(set(GroupB)-set(GroupB0)))"
      ],
      "metadata": {
        "id": "59tVwaINtvpF"
      },
      "execution_count": 8,
      "outputs": []
    },
    {
      "cell_type": "code",
      "source": [
        "## A function that generates images of N_UVt for t=0,1,2,....,t_len-1\n",
        "\n",
        "import os\n",
        "import matplotlib.pyplot as plt\n",
        "import imageio\n",
        "\n",
        "def save_N_UVt_images(N_UVt, Group, t_len, folder_name):\n",
        "    # where to save\n",
        "    save_folder = os.path.join(root_folder, folder_name)\n",
        "\n",
        "    if not os.path.exists(save_folder):\n",
        "        os.makedirs(save_folder)\n",
        "\n",
        "    total_N_UVt = np.sum(N_UVt[:,:,:,Group], axis=-1)\n",
        "    min_val = np.min(total_N_UVt)\n",
        "    max_val = np.max(total_N_UVt)\n",
        "\n",
        "    for t in range(t_len + 1):\n",
        "        plt.imshow(total_N_UVt[:,:,t], vmin=min_val, vmax=max_val, cmap='CMRmap')\n",
        "\n",
        "        plt.gca().set_xticks([])\n",
        "        plt.gca().set_yticks([])\n",
        "\n",
        "        plt.subplots_adjust(left=0, right=1, top=1, bottom=0)\n",
        "\n",
        "        save_path = os.path.join(save_folder, f't_{t}.png')\n",
        "        plt.savefig(save_path, bbox_inches='tight', pad_inches=0, dpi=300)\n",
        "\n",
        "        plt.close()\n",
        "\n",
        "    gif_path = os.path.join(root_folder, f'{folder_name}.gif')\n",
        "    images = []\n",
        "\n",
        "    for t in range(t_len + 1):\n",
        "        image_path = os.path.join(save_folder, f't_{t}.png')\n",
        "        images.append(imageio.imread(image_path))\n",
        "\n",
        "    imageio.mimsave(gif_path, images, duration=0.1, loop=0)"
      ],
      "metadata": {
        "id": "DKlkgXWZbToQ"
      },
      "execution_count": 9,
      "outputs": []
    },
    {
      "cell_type": "code",
      "source": [
        "import os\n",
        "import matplotlib.pyplot as plt\n",
        "import imageio.v2 as imageio\n",
        "import gc  # Import garbage collection\n",
        "\n",
        "def save_N_UVt_images(N_UVt, Group, t_len, folder_name, title_color='black'):\n",
        "    # where to save\n",
        "    save_folder = os.path.join(root_folder, folder_name)\n",
        "\n",
        "    if not os.path.exists(save_folder):\n",
        "        os.makedirs(save_folder)\n",
        "\n",
        "    total_N_UVt = np.sum(N_UVt[:,:,:,Group], axis=-1)\n",
        "    min_val = np.min(total_N_UVt)\n",
        "    max_val = np.max(total_N_UVt)\n",
        "\n",
        "    for t in range(t_len + 1):\n",
        "        # Plot the image\n",
        "        plt.imshow(total_N_UVt[:,:,t], vmin=min_val, vmax=max_val, cmap='CMRmap')\n",
        "\n",
        "        # Hide the axes\n",
        "        plt.gca().set_xticks([])\n",
        "        plt.gca().set_yticks([])\n",
        "\n",
        "        # Remove margins\n",
        "        plt.subplots_adjust(left=0, right=1, top=1, bottom=0)\n",
        "\n",
        "        # Add the 't=...' text at the top-left in the specified color\n",
        "        plt.text(0.05, 0.95, f't={t}', color=title_color, fontsize=24,\n",
        "                 horizontalalignment='left', verticalalignment='top', transform=plt.gca().transAxes)\n",
        "\n",
        "        # Save the image\n",
        "        save_path = os.path.join(save_folder, f't_{t}.png')\n",
        "        plt.savefig(save_path, bbox_inches='tight', pad_inches=0, dpi=300)\n",
        "\n",
        "        # Close the figure to free memory\n",
        "        plt.close()\n",
        "\n",
        "        # Explicitly delete unused objects\n",
        "        del save_path\n",
        "\n",
        "        # Invoke garbage collector to free memory\n",
        "        gc.collect()\n",
        "\n",
        "    # GIF creation process\n",
        "    gif_path = os.path.join(root_folder, f'{folder_name}.gif')\n",
        "    images = []\n",
        "\n",
        "    for t in range(t_len + 1):\n",
        "        image_path = os.path.join(save_folder, f't_{t}.png')\n",
        "        images.append(imageio.imread(image_path))\n",
        "\n",
        "    # Save GIF with 100ms duration per frame and infinite loop\n",
        "    imageio.mimsave(gif_path, images, duration=0.1, loop=0)\n",
        "\n",
        "    # Free memory by clearing the image list\n",
        "    del images\n",
        "    gc.collect()  # Force garbage collection\n",
        "\n",
        "    print(f\"GIF saved at {gif_path}\")"
      ],
      "metadata": {
        "id": "07aNms_ou0pq"
      },
      "execution_count": 13,
      "outputs": []
    },
    {
      "cell_type": "code",
      "source": [
        "t_max = 200 # increase this number\n",
        "save_N_UVt_images(N_UVt, GroupAll, t_max, 'GroupAll', title_color='black')\n",
        "save_N_UVt_images(N_UVt, Group0, t_max, 'Group0', title_color='black')\n",
        "save_N_UVt_images(N_UVt, GroupA, t_max, 'GroupA', title_color='white')\n",
        "save_N_UVt_images(N_UVt, GroupB, t_max, 'GroupB', title_color='white')\n",
        "save_N_UVt_images(N_UVt, GroupB0, t_max, 'GroupB0', title_color='white')\n",
        "save_N_UVt_images(N_UVt, GroupB1, t_max, 'GroupB1', title_color='white')\n",
        "save_N_UVt_images(N_UVt, GroupB2, t_max, 'GroupB2', title_color='white')\n",
        "save_N_UVt_images(N_UVt, GroupB12, t_max, 'GroupB12', title_color='white')"
      ],
      "metadata": {
        "id": "PlTGOMxy4Wg_",
        "colab": {
          "base_uri": "https://localhost:8080/"
        },
        "outputId": "cc683d49-a079-4382-82ed-9805ee29d9a8"
      },
      "execution_count": 14,
      "outputs": [
        {
          "output_type": "stream",
          "name": "stdout",
          "text": [
            "GIF saved at /content/drive/My Drive/Flow_Structure_Clustering/GroupAll.gif\n",
            "GIF saved at /content/drive/My Drive/Flow_Structure_Clustering/Group0.gif\n",
            "GIF saved at /content/drive/My Drive/Flow_Structure_Clustering/GroupA.gif\n",
            "GIF saved at /content/drive/My Drive/Flow_Structure_Clustering/GroupB.gif\n",
            "GIF saved at /content/drive/My Drive/Flow_Structure_Clustering/GroupB0.gif\n",
            "GIF saved at /content/drive/My Drive/Flow_Structure_Clustering/GroupB1.gif\n",
            "GIF saved at /content/drive/My Drive/Flow_Structure_Clustering/GroupB2.gif\n",
            "GIF saved at /content/drive/My Drive/Flow_Structure_Clustering/GroupB12.gif\n"
          ]
        }
      ]
    }
  ],
  "metadata": {
    "colab": {
      "provenance": []
    },
    "kernelspec": {
      "display_name": "Python 3",
      "name": "python3"
    },
    "language_info": {
      "name": "python"
    }
  },
  "nbformat": 4,
  "nbformat_minor": 0
}